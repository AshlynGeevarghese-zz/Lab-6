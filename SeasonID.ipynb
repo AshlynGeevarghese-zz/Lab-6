{
 "cells": [
  {
   "cell_type": "code",
   "execution_count": null,
   "metadata": {},
   "outputs": [],
   "source": [
    "name = input(\"What is your name?\")\n",
    "month = input(\"What month of the year is it\")\n",
    "if (month == \"January\" ):\n",
    "    print(\"Hi \",name,\"! It is winter\")\n",
    "elif (month == \"February\"):\n",
    "    print(\"Hi \",name,\"! It is winter\")\n",
    "elif (month == \"March\"):\n",
    "    print(\"Hi \", name,\"! It is spring\")\n",
    "elif (month == \"April\"):\n",
    "    print(\"Hi \", name,\"! It is spring\")\n",
    "elif (month == \"May\"):\n",
    "    print(\"Hi \", name, \"! It is spring\")\n",
    "elif (month == \"June\"):\n",
    "    print(\"Hi \", name, \"! It is Summer\")\n",
    "elif (month == \"July\"):\n",
    "    print(\"Hi \", name,\"! It is Summer\")\n",
    "elif (month == \"August\"):\n",
    "    print(\"Hi\", name, \"! It is Summer\")\n",
    "elif (month == \"September\"):\n",
    "    print(\"Hi\", name, \"! It is Fall\")\n",
    "elif (month == \"October\"):\n",
    "    print(\"Hi,\" , name, \"! It is fall\")\n",
    "elif (month == \"November\"):\n",
    "    print(\"Hi, \", name, \"! It is fall\")\n",
    "elif (month == \"December\"):\n",
    "    print(\"Hi\", name, \"! It is winter\")\n",
    "else: \n",
    "    print(name, \", You entered an invalid month\")"
   ]
  }
 ],
 "metadata": {
  "kernelspec": {
   "display_name": "Python 3",
   "language": "python",
   "name": "python3"
  },
  "language_info": {
   "codemirror_mode": {
    "name": "ipython",
    "version": 3
   },
   "file_extension": ".py",
   "mimetype": "text/x-python",
   "name": "python",
   "nbconvert_exporter": "python",
   "pygments_lexer": "ipython3",
   "version": "3.7.8"
  }
 },
 "nbformat": 4,
 "nbformat_minor": 4
}
